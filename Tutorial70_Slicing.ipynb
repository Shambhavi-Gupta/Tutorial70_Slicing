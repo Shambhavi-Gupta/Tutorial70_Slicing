{
  "nbformat": 4,
  "nbformat_minor": 0,
  "metadata": {
    "colab": {
      "name": "Tutorial70_Slicing.ipynb",
      "provenance": [],
      "authorship_tag": "ABX9TyMB+iVO49nVDc51DIy9lqM8",
      "include_colab_link": true
    },
    "kernelspec": {
      "name": "python3",
      "display_name": "Python 3"
    }
  },
  "cells": [
    {
      "cell_type": "markdown",
      "metadata": {
        "id": "view-in-github",
        "colab_type": "text"
      },
      "source": [
        "<a href=\"https://colab.research.google.com/github/Shambhavi-Gupta/Tutorial70_Slicing/blob/main/Tutorial70_Slicing.ipynb\" target=\"_parent\"><img src=\"https://colab.research.google.com/assets/colab-badge.svg\" alt=\"Open In Colab\"/></a>"
      ]
    },
    {
      "cell_type": "code",
      "metadata": {
        "id": "Ac2ihIivXq6K"
      },
      "source": [
        "import numpy as np\r\n",
        "# a = np.array([5,4,3,2,1])\r\n",
        "# print(a)\r\n",
        "# print(a[1:4])\r\n",
        "# print(a[1::2])\r\n",
        "\r\n",
        "b = np.array([[1,2],[3,4],[5,6]])\r\n",
        "#print(b)\r\n",
        "# print(b[1: , 1:])\r\n",
        "print(b[:,:])\r\n"
      ],
      "execution_count": null,
      "outputs": []
    }
  ]
}